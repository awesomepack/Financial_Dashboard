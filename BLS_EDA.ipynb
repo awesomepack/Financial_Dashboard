{
 "cells": [
  {
   "cell_type": "markdown",
   "metadata": {},
   "source": [
    "# Income EDA\n",
    "Exploring Salary data in the United States by using the BLS API\n",
    "[Getting Strated with BLS API](URL 'https://www.bls.gov/developers/')\n"
   ]
  },
  {
   "cell_type": "markdown",
   "metadata": {},
   "source": []
  }
 ],
 "metadata": {
  "language_info": {
   "name": "python"
  },
  "orig_nbformat": 4
 },
 "nbformat": 4,
 "nbformat_minor": 2
}
